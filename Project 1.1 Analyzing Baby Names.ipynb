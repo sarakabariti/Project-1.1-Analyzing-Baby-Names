{
 "cells": [
  {
   "cell_type": "code",
   "execution_count": 19,
   "id": "16c670ef",
   "metadata": {},
   "outputs": [],
   "source": [
    "import pandas as pd\n",
    "df = pd.read_csv(\"C:/Users/DELL/Documents/FS2022_Data Science/Project 1.1 Analyzing Baby Names/names/yob2021.txt\", header=None)"
   ]
  },
  {
   "cell_type": "markdown",
   "id": "e1c62d71",
   "metadata": {},
   "source": [
    "## Task 1:"
   ]
  },
  {
   "cell_type": "code",
   "execution_count": 22,
   "id": "52f4206b",
   "metadata": {},
   "outputs": [
    {
     "data": {
      "text/plain": [
       "<bound method DataFrame.info of                0  1      2\n",
       "0         Olivia  F  17728\n",
       "1           Emma  F  15433\n",
       "2      Charlotte  F  13285\n",
       "3         Amelia  F  12952\n",
       "4            Ava  F  12759\n",
       "...          ... ..    ...\n",
       "31532     Zyeire  M      5\n",
       "31533       Zyel  M      5\n",
       "31534      Zyian  M      5\n",
       "31535      Zylar  M      5\n",
       "31536        Zyn  M      5\n",
       "\n",
       "[31537 rows x 3 columns]>"
      ]
     },
     "execution_count": 22,
     "metadata": {},
     "output_type": "execute_result"
    }
   ],
   "source": [
    "# Inspect the file yob2021.txt in a text editor. What do you observe about the structure of the file?\n",
    "df.head()\n",
    "df.info"
   ]
  },
  {
   "cell_type": "markdown",
   "id": "af8a0750",
   "metadata": {},
   "source": [
    "The file contains 3 columns with 31536 rows.\n",
    "The columns are separated by Name, Sex, and a number of occurrences. \n",
    "There is no header on the top of each column, but the \"readme\" file describes what type of information each column contains."
   ]
  },
  {
   "cell_type": "markdown",
   "id": "f7634dc8",
   "metadata": {},
   "source": [
    "## Task 2:"
   ]
  },
  {
   "cell_type": "code",
   "execution_count": 25,
   "id": "154c6bd8",
   "metadata": {},
   "outputs": [],
   "source": [
    "# Read the file 'yob2021.txt' into pandas.\n",
    "df = pd.read_csv(\"C:/Users/DELL/Documents/FS2022_Data Science/Project 1.1 Analyzing Baby Names/names/yob2021.txt\", header=None)"
   ]
  },
  {
   "cell_type": "markdown",
   "id": "a197268f",
   "metadata": {},
   "source": [
    "## Task 3:"
   ]
  },
  {
   "cell_type": "code",
   "execution_count": 26,
   "id": "90af87bd",
   "metadata": {},
   "outputs": [
    {
     "name": "stdout",
     "output_type": "stream",
     "text": [
      "           0  1      2\n",
      "0     Olivia  F  17728\n",
      "1       Emma  F  15433\n",
      "2  Charlotte  F  13285\n",
      "3     Amelia  F  12952\n",
      "4        Ava  F  12759\n",
      "5     Sophia  F  12496\n",
      "6   Isabella  F  11201\n",
      "7        Mia  F  11096\n",
      "8     Evelyn  F   9434\n",
      "9     Harper  F   8388\n"
     ]
    }
   ],
   "source": [
    "# Print the first 10 rows.\n",
    "print(df.head(10))"
   ]
  },
  {
   "cell_type": "markdown",
   "id": "9de620cf",
   "metadata": {},
   "source": [
    "## Task 4:"
   ]
  },
  {
   "cell_type": "code",
   "execution_count": 27,
   "id": "e584d229",
   "metadata": {},
   "outputs": [
    {
     "data": {
      "text/plain": [
       "(31537, 3)"
      ]
     },
     "execution_count": 27,
     "metadata": {},
     "output_type": "execute_result"
    }
   ],
   "source": [
    "# Display the number of rows and columns.\n",
    "df.shape"
   ]
  },
  {
   "cell_type": "markdown",
   "id": "0da752db",
   "metadata": {},
   "source": [
    "## Task 5:"
   ]
  },
  {
   "cell_type": "code",
   "execution_count": 30,
   "id": "a6243242",
   "metadata": {},
   "outputs": [
    {
     "name": "stdout",
     "output_type": "stream",
     "text": [
      "3361375\n"
     ]
    }
   ],
   "source": [
    "# Calculate the total number of babies born in 2021, i.e. the sum of the third column.\n",
    "total = df[2].sum()\n",
    "print(total)"
   ]
  },
  {
   "cell_type": "markdown",
   "id": "9aaf484c",
   "metadata": {},
   "source": [
    "## Task 6:"
   ]
  },
  {
   "cell_type": "code",
   "execution_count": 32,
   "id": "25a9ae22",
   "metadata": {},
   "outputs": [
    {
     "name": "stdout",
     "output_type": "stream",
     "text": [
      "1627098\n",
      "1734277\n"
     ]
    }
   ],
   "source": [
    "# Like Task 5, but calculate the sum for boys and girls separately.\n",
    "girls_sum = df[df[1] == \"F\"][2].sum()\n",
    "print(girls_sum)\n",
    "\n",
    "boys_sum = df[df[1] == \"M\"][2].sum()\n",
    "print(boys_sum)"
   ]
  },
  {
   "cell_type": "markdown",
   "id": "f4dc19b7",
   "metadata": {},
   "source": [
    "## Task 7:"
   ]
  },
  {
   "cell_type": "code",
   "execution_count": 33,
   "id": "1b6676aa",
   "metadata": {},
   "outputs": [
    {
     "data": {
      "text/html": [
       "<div>\n",
       "<style scoped>\n",
       "    .dataframe tbody tr th:only-of-type {\n",
       "        vertical-align: middle;\n",
       "    }\n",
       "\n",
       "    .dataframe tbody tr th {\n",
       "        vertical-align: top;\n",
       "    }\n",
       "\n",
       "    .dataframe thead th {\n",
       "        text-align: right;\n",
       "    }\n",
       "</style>\n",
       "<table border=\"1\" class=\"dataframe\">\n",
       "  <thead>\n",
       "    <tr style=\"text-align: right;\">\n",
       "      <th></th>\n",
       "      <th>0</th>\n",
       "      <th>1</th>\n",
       "      <th>2</th>\n",
       "    </tr>\n",
       "  </thead>\n",
       "  <tbody>\n",
       "    <tr>\n",
       "      <th>195</th>\n",
       "      <td>Sara</td>\n",
       "      <td>F</td>\n",
       "      <td>1507</td>\n",
       "    </tr>\n",
       "    <tr>\n",
       "      <th>29346</th>\n",
       "      <td>Sara</td>\n",
       "      <td>M</td>\n",
       "      <td>6</td>\n",
       "    </tr>\n",
       "  </tbody>\n",
       "</table>\n",
       "</div>"
      ],
      "text/plain": [
       "          0  1     2\n",
       "195    Sara  F  1507\n",
       "29346  Sara  M     6"
      ]
     },
     "execution_count": 33,
     "metadata": {},
     "output_type": "execute_result"
    }
   ],
   "source": [
    "# Check if your name occurs in the data.\n",
    "df[df[0] == \"Sara\"]"
   ]
  },
  {
   "cell_type": "markdown",
   "id": "4ff80a43",
   "metadata": {},
   "source": [
    "## Task 8:"
   ]
  },
  {
   "cell_type": "code",
   "execution_count": 38,
   "id": "0ff6f974",
   "metadata": {},
   "outputs": [
    {
     "name": "stdout",
     "output_type": "stream",
     "text": [
      "48.405726823100665\n",
      "51.59427317689933\n"
     ]
    }
   ],
   "source": [
    "# Calculate the percentage of girls and boys among the total births.\n",
    "girls_percent = girls_sum / total * 100\n",
    "print(girls_percent)\n",
    "\n",
    "boys_percent = boys_sum / total * 100\n",
    "print(boys_percent)"
   ]
  },
  {
   "cell_type": "markdown",
   "id": "b81eaf88",
   "metadata": {},
   "source": [
    "## Task 9:"
   ]
  },
  {
   "cell_type": "code",
   "execution_count": 62,
   "id": "ef0065b0",
   "metadata": {},
   "outputs": [
    {
     "name": "stdout",
     "output_type": "stream",
     "text": [
      "               0  1      2\n",
      "17544       Liam  M  20272\n",
      "17545       Noah  M  18739\n",
      "17546     Oliver  M  14616\n",
      "17547     Elijah  M  12708\n",
      "17548      James  M  12367\n",
      "0         Olivia  F  17728\n",
      "1           Emma  F  15433\n",
      "2      Charlotte  F  13285\n",
      "3         Amelia  F  12952\n",
      "4            Ava  F  12759\n"
     ]
    }
   ],
   "source": [
    "# Create a table that contains the top 5 girls names and top 5 boys names.\n",
    "top_boys = df[df[1] == \"M\"].sort_values(2, ascending = False).head(5)\n",
    "top_girls = df[df[1] == \"F\"].sort_values(2, ascending = False).head(5)\n",
    "top = pd.concat([top_boys, top_girls])\n",
    "print(top)"
   ]
  },
  {
   "cell_type": "markdown",
   "id": "b2efda5f",
   "metadata": {},
   "source": [
    "## Task 10:"
   ]
  },
  {
   "cell_type": "code",
   "execution_count": 72,
   "id": "ee087daf",
   "metadata": {},
   "outputs": [],
   "source": [
    "# Write the data from task 9 to an Excel spreadsheet.\n",
    "top.to_excel(\"C:/Users/DELL/Documents/FS2022_Data Science/Project 1.1 Analyzing Baby Names/top.xlsx\")"
   ]
  }
 ],
 "metadata": {
  "kernelspec": {
   "display_name": "Python 3 (ipykernel)",
   "language": "python",
   "name": "python3"
  },
  "language_info": {
   "codemirror_mode": {
    "name": "ipython",
    "version": 3
   },
   "file_extension": ".py",
   "mimetype": "text/x-python",
   "name": "python",
   "nbconvert_exporter": "python",
   "pygments_lexer": "ipython3",
   "version": "3.9.7"
  }
 },
 "nbformat": 4,
 "nbformat_minor": 5
}
